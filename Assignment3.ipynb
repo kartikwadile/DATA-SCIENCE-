{
 "cells": [
  {
   "cell_type": "code",
   "execution_count": null,
   "id": "89a9585d-f7fd-40eb-8091-697d37b51448",
   "metadata": {},
   "outputs": [],
   "source": [
    "1. Why are functions advantageous to have in your programs?\n",
    "Ans:-  Functions are advantegeous to have in programs for several reasons:\\\n",
    "'''\n",
    "1. Reusability : Functions allows us to encapsulate a specific set of instructions or behaior into a single unit that can be calle multiple times throughout our program.\n",
    "2. Abstraction : Functions allow us to abstract away complex logic and implementation details behind a simple interface.\n",
    "3. Readability and Maintainability: Breaking down your code into functions makes it more readable and easier to understand.\n",
    "4. Testing : Functions can be individually tested, which facilitates the debugging process.\n",
    "5. Modularity: Functions enable you to break down your program into smaller, self-contained modules.\n",
    "'''"
   ]
  },
  {
   "cell_type": "code",
   "execution_count": null,
   "id": "0fd4b1db-03d2-4146-932e-b2d2e43d511b",
   "metadata": {},
   "outputs": [],
   "source": [
    "2. When does the code in a function run: when it's specified or when it's called?\n",
    "Ans:- The code In a function runs when the function is called."
   ]
  },
  {
   "cell_type": "code",
   "execution_count": null,
   "id": "35e603b2-7a0c-451f-88a0-3ad88f962022",
   "metadata": {},
   "outputs": [],
   "source": [
    "3. What statement creates a function?\n",
    "Ans:- #...def statement is used to create a function"
   ]
  },
  {
   "cell_type": "code",
   "execution_count": null,
   "id": "a62d62ee-5086-4125-bd3e-cc98e5179447",
   "metadata": {},
   "outputs": [],
   "source": [
    "4. What is the difference between a function and a function call?\n",
    "Ans:-\n",
    "1. Function:  A function Is a block of code that encapsulates a specific Set of instructions Or behavior.\\\n",
    "defined As def statement.\n",
    "2. Function call: A function call Is when we actually excecutes the function In our program."
   ]
  },
  {
   "cell_type": "code",
   "execution_count": null,
   "id": "3563375a-cca0-41fe-a831-2976759ea514",
   "metadata": {},
   "outputs": [],
   "source": [
    "5. How many global scopes are there in a Python program? How many local scopes?\n",
    "Ans:-\n",
    "'''In a Python program, there is only one global scope, which is the top-level scope of the program. It is accessible from anywhere within the program\\\n",
    "and remains constant throughout the execution.\n",
    "\n",
    "The number of local scopes in a Python program depends on how many functions are defined and called during the execution of the program.\\\n",
    "Each function call creates its own local scope, separate from other local scopes.'''\n",
    "\n",
    "\n",
    "''' 1 .Python programs have one global scope, accessible throughout the program.\n",
    " 2. Local scopes are created each time a function is called and exist only during the execution of that function.\n",
    "3. Global variables are accessible from anywhere in the program.\n",
    "4. Local variables are accessible only within their respective local scope and are destroyed when the function finishes executing.\n",
    "\n",
    "\n",
    "\n"
   ]
  },
  {
   "cell_type": "code",
   "execution_count": null,
   "id": "02b97a85-5212-42f3-8957-eac3ea2876f2",
   "metadata": {},
   "outputs": [],
   "source": [
    "6. What happens to variables in a local scope when the function call returns?\n",
    "Ans:- \n",
    "When a function call returns, the local scope associated with that function is destroyed,\n",
    "and the variables defined within that scope cease to exist."
   ]
  },
  {
   "cell_type": "code",
   "execution_count": null,
   "id": "475abcfa-b74b-4436-b1b7-6c1bcbffb64d",
   "metadata": {},
   "outputs": [],
   "source": [
    "7. What is the concept of a return value? Is it possible to have a return value in an expression?\n",
    "Ans:- \n",
    "''' We use the return statement to specify the return value of a function.\n",
    "The return statement is followed by an expression or a value that represents the result of the function.\n",
    "Once the return statement is encountered during the execution of a function, the function terminates,\n",
    "and the specified return value is passed back to the caller.\n",
    "\n",
    "A return value in Python can be used in expressions. \n",
    "Once a function returns a value, we can assign it to a variable, pass it as an argument to another function,\n",
    "or use it in any other expression or computation.'''"
   ]
  },
  {
   "cell_type": "code",
   "execution_count": null,
   "id": "3e69eed1-f436-490b-bf0d-f579cf563449",
   "metadata": {},
   "outputs": [],
   "source": [
    "8. If a function does not have a return statement, what is the return value of a call to that function?\n",
    "Ans :-\n",
    "When a function reaches the end of its code block without encountering a return statement, it implicitly returns None. \n",
    "This means that if you dont specify a return value explicitly, the function will still provide a value of None when called.\n",
    "\n"
   ]
  },
  {
   "cell_type": "code",
   "execution_count": null,
   "id": "145a2a71-c62d-49d6-9243-088bd223f887",
   "metadata": {},
   "outputs": [],
   "source": [
    "9. How do you make a function variable refer to the global variable?\n",
    "Ans:-\n",
    " if we have a local variable with the same name as a global variable\n",
    "    and we want to make the local variable refer to the global variable,\n",
    "    we can use the global keyword. By using the global keyword,\n",
    "    we explicitly indicate that the variable should be treated as a global variable,\n",
    "    even within the local scope of a function.\n",
    "    \n",
    "e.g.\n",
    "a = 10         #.. global variable\n",
    "def update():\n",
    "    global a     #..Declaring the variable as global\n",
    "    a = 20       #...Update the value of the global variable\n",
    "\n",
    "print(a)    # output : 10\n",
    "update()\n",
    "print(a)    #....Output: 20\n",
    "    \n",
    "    "
   ]
  },
  {
   "cell_type": "code",
   "execution_count": null,
   "id": "0fbbbfc5-9ff1-47d8-b9b0-c980304f9f1d",
   "metadata": {},
   "outputs": [],
   "source": [
    "10. What is the data type of None?\n",
    "Ans:-\n",
    "The data type of None in Python is called NoneType. \n",
    "NoneType is a built-in data type that has a single value, which is None."
   ]
  },
  {
   "cell_type": "code",
   "execution_count": null,
   "id": "249692c1-a8df-4f4f-9672-c7336e619c32",
   "metadata": {},
   "outputs": [],
   "source": [
    "11. What does the sentence import areallyourpetsnamederic do?\n",
    "Ans:- \n",
    "'''The sentence \"import areallyourpetsnamederic\" does not have any intrinsic meaning in Python.\n",
    "\n",
    "In Python, the import statement is used to bring functionality from external modules into your current Python program.\n",
    "When you write import module_name, you are instructing Python to search for a module named module_name and make its functions, classes,\n",
    "or variables available for use in your code.\n",
    "\n",
    "However, \"areallyourpetsnamederic\" is not a recognized module in the Python standard library or any commonly used third-party libraries.\n",
    "Therefore, the sentence \"import areallyourpetsnamederic\" does not import any specific module or provide any recognizable functionality.'''"
   ]
  },
  {
   "cell_type": "code",
   "execution_count": null,
   "id": "f6eb1709-9afa-47bb-a288-cf7a51637558",
   "metadata": {},
   "outputs": [],
   "source": [
    "12. If you had a bacon() feature in a spam module, what would you call it after importing spam?\n",
    "Ans:-\n",
    "If we have imported a module named spam that contains a function called bacon(),\n",
    "we can call the bacon() function by using the module name as a prefix.\n",
    "import spam\n",
    "spam.bacon()"
   ]
  },
  {
   "cell_type": "code",
   "execution_count": null,
   "id": "08971b2f-ea7c-4d5d-b083-78e417d2cb89",
   "metadata": {},
   "outputs": [],
   "source": [
    "13. What can you do to save a programme from crashing if it encounters an error?\n",
    "Ans:-\n",
    " We can use a combination of the try, except, else, and finally statements For error handling."
   ]
  },
  {
   "cell_type": "code",
   "execution_count": null,
   "id": "973e9aad-e133-4a75-827d-1c472ad89b23",
   "metadata": {},
   "outputs": [],
   "source": [
    "14. What is the purpose of the try clause? What is the purpose of the except clause?\n",
    "Ans:-\n",
    "'''The code within the try block is executed normally. If an exception occurs during the execution of this code,\n",
    "the execution is immediately transferred to the corresponding except block.\n",
    "\n",
    "The except block catches and handles the specific exception's defined within it.\n",
    "You can have multiple except blocks to handle different types of exceptions or handle a common base exception.\n",
    "\n",
    "If the code within the try block executes successfully without any exceptions being raised,\n",
    "the except block's are skipped, and the program continues with the code after the try-except construct.'''\n"
   ]
  }
 ],
 "metadata": {
  "kernelspec": {
   "display_name": "Python 3 (ipykernel)",
   "language": "python",
   "name": "python3"
  },
  "language_info": {
   "codemirror_mode": {
    "name": "ipython",
    "version": 3
   },
   "file_extension": ".py",
   "mimetype": "text/x-python",
   "name": "python",
   "nbconvert_exporter": "python",
   "pygments_lexer": "ipython3",
   "version": "3.10.6"
  }
 },
 "nbformat": 4,
 "nbformat_minor": 5
}
