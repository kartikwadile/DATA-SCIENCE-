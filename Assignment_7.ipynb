{
 "cells": [
  {
   "cell_type": "markdown",
   "id": "f2029941",
   "metadata": {},
   "source": [
    "Q.1. Create two int type variables, apply addition, subtraction, division and multiplications\n",
    "and store the results in variables. Then print the data in the following format by calling the\n",
    "variables:\n",
    "First variable is __ & second variable is __.\n",
    "Addition: __ + __ = __\n",
    "Subtraction: __ - __ = __\n",
    "Multiplication: __ * __ = __\n",
    "Division: __ / __ = __"
   ]
  },
  {
   "cell_type": "code",
   "execution_count": 1,
   "id": "c47fe7be",
   "metadata": {},
   "outputs": [
    {
     "name": "stdout",
     "output_type": "stream",
     "text": [
      "First variable is 10 & second variable is 5\n",
      "Addition : 10+5 = 15\n",
      "Substraction : 10-5 = 5\n",
      "Division : 10/5 = 2.0\n",
      "Multiplication : 10*5 = 50\n"
     ]
    }
   ],
   "source": [
    "a = 10\n",
    "b = 5\n",
    "#Addition\n",
    "addition = a + b\n",
    "\n",
    "#Substraction\n",
    "substraction = a - b\n",
    "\n",
    "#Division\n",
    "division = a / b \n",
    "\n",
    "#Multiplication\n",
    "multiplication = a*b\n",
    "\n",
    "print(f\"First variable is {a} & second variable is {b}\")\n",
    "print(f\"Addition : {a}+{b} = {addition}\")\n",
    "print(f\"Substraction : {a}-{b} = {substraction}\")\n",
    "print(f\"Division : {a}/{b} = {division}\")\n",
    "print(f\"Multiplication : {a}*{b} = {multiplication}\")\n",
    "\n"
   ]
  },
  {
   "cell_type": "markdown",
   "id": "a373c03e",
   "metadata": {},
   "source": [
    "Q.2. What is the difference between the following operators:\n",
    "(i) ‘/’ & ‘//’\n",
    "(ii) ‘**’ & ‘^’"
   ]
  },
  {
   "cell_type": "code",
   "execution_count": null,
   "id": "c0268576",
   "metadata": {},
   "outputs": [],
   "source": [
    "# (i) Difference between '/' and '//' operators\n",
    "# The '/' operator performs division and returns the result as a floating-point number.\n",
    "# Example: 7 / 2 = 3.5\n",
    "\n",
    "# The '//' operator performs floor division and returns the result as an integer, discarding the fractional part.\n",
    "# Example: 7 // 2 = 3\n",
    "\n",
    "# (ii) Difference between '**' and '^' operators\n",
    "# The '**' operator is used for exponentiation, where the left operand is raised to the power of the right operand.\n",
    "# Example: 2 ** 3 = 8\n",
    "\n",
    "# The '^' operator, however, is not a valid exponentiation operator in Python."
   ]
  },
  {
   "cell_type": "markdown",
   "id": "849bf33e",
   "metadata": {},
   "source": [
    "Q3: List the logical operators."
   ]
  },
  {
   "cell_type": "code",
   "execution_count": null,
   "id": "f023d96b",
   "metadata": {},
   "outputs": [],
   "source": [
    "# Logical operators in Python are:\n",
    "# - and (&)\n",
    "# - or (|)\n",
    "# - not (~)"
   ]
  },
  {
   "cell_type": "markdown",
   "id": "2eaa136a",
   "metadata": {},
   "source": [
    "Q4: Explain the right shift operator and left shift operator with examples."
   ]
  },
  {
   "cell_type": "markdown",
   "id": "16720d0b",
   "metadata": {},
   "source": [
    "The right shift operator (>>) moves the bits of a number to the right by a specified number of positions, discarding the rightmost bits and filling the leftmost positions with zeros.\n",
    "\n",
    "Example of the right shift operator:"
   ]
  },
  {
   "cell_type": "code",
   "execution_count": null,
   "id": "268d76fa",
   "metadata": {},
   "outputs": [],
   "source": [
    "# Right shift operator (>>)\n",
    "x = 10   # Binary: 00001010\n",
    "result = x >> 2   # Shift 2 positions to the right\n",
    "# Result: 00000010 (Decimal: 2)"
   ]
  },
  {
   "cell_type": "markdown",
   "id": "1775e483",
   "metadata": {},
   "source": [
    "The left shift operator (<<) moves the bits of a number to the left by a specified number of positions, filling the rightmost positions with zeros.\n",
    "\n",
    "Example of the left shift operator:"
   ]
  },
  {
   "cell_type": "code",
   "execution_count": null,
   "id": "2e501e93",
   "metadata": {},
   "outputs": [],
   "source": [
    "# Left shift operator (<<)\n",
    "y = 2   # Binary: 00000010\n",
    "result = y << 2   # Shift 2 positions to the left\n",
    "# Result: 00001000 (Decimal: 8)"
   ]
  },
  {
   "cell_type": "markdown",
   "id": "a8749131",
   "metadata": {},
   "source": [
    "Q.5. Create a list containing int type data of length 15. Then write a code to check if 10 is\n",
    "present in the list or not."
   ]
  },
  {
   "cell_type": "code",
   "execution_count": 10,
   "id": "adb3b057",
   "metadata": {},
   "outputs": [
    {
     "name": "stdout",
     "output_type": "stream",
     "text": [
      "10 is present in the list\n"
     ]
    }
   ],
   "source": [
    "List = [1,2,3,4,5,6,4,10,3,43,54,64,23,32,54]\n",
    "if 10 in List:\n",
    "    print(\"10 is present in the list\")\n",
    "else:\n",
    "    print(\"10 is not there in the List\")\n",
    "    \n",
    "    "
   ]
  },
  {
   "cell_type": "code",
   "execution_count": null,
   "id": "7af3b39e",
   "metadata": {},
   "outputs": [],
   "source": []
  }
 ],
 "metadata": {
  "kernelspec": {
   "display_name": "Python 3 (ipykernel)",
   "language": "python",
   "name": "python3"
  },
  "language_info": {
   "codemirror_mode": {
    "name": "ipython",
    "version": 3
   },
   "file_extension": ".py",
   "mimetype": "text/x-python",
   "name": "python",
   "nbconvert_exporter": "python",
   "pygments_lexer": "ipython3",
   "version": "3.10.13"
  }
 },
 "nbformat": 4,
 "nbformat_minor": 5
}
