{
 "cells": [
  {
   "cell_type": "code",
   "execution_count": null,
   "id": "7e296e8d",
   "metadata": {},
   "outputs": [],
   "source": [
    "1. What does an empty dictionary's code look like?\n",
    "2. What is the value of a dictionary value with the key 'foo' and the value 42?\n",
    "3. What is the most significant distinction between a dictionary and a list?\n",
    "4. What happens if you try to access spam['foo'] if spam is {'bar': 100}?\n",
    "5. If a dictionary is stored in spam, what is the difference between the expressions 'cat' in spam and 'cat' in spam.keys()?\n",
    "6. If a dictionary is stored in spam, what is the difference between the expressions 'cat' in spam and 'cat' in spam.values()?\n",
    "7. What is a shortcut for the following code?\n",
    "if 'color' not in spam:\n",
    "spam['color'] = 'black'\n",
    "\n",
    "8. How do you \"pretty print\" dictionary values using which module and function?\n"
   ]
  },
  {
   "cell_type": "code",
   "execution_count": null,
   "id": "d94b3d68",
   "metadata": {},
   "outputs": [],
   "source": [
    "#1. What does an empty dictionary's code look like?\n",
    "#Ans:-\n",
    "#An empty dictionary's code looks like this:\n",
    "empty_dict = {}"
   ]
  },
  {
   "cell_type": "code",
   "execution_count": null,
   "id": "d49db041",
   "metadata": {},
   "outputs": [],
   "source": [
    "#2. What is the value of a dictionary value with the key 'foo' and the value 42?\n",
    "#Ans:-\n",
    "dict = {'foo': 42}"
   ]
  },
  {
   "cell_type": "code",
   "execution_count": null,
   "id": "d7f670c7",
   "metadata": {},
   "outputs": [],
   "source": [
    "#3. What is the most significant distinction between a dictionary and a list?\n",
    "#Ans:-\n",
    "The most significant distinction between a dictionary and a list is that \n",
    "a dictionary is a collection of key-value pairs,\n",
    "where each value is associated with a unique key, while a list is an \n",
    "ordered collection of values that are accessed using indices."
   ]
  },
  {
   "cell_type": "code",
   "execution_count": null,
   "id": "139b6ae1",
   "metadata": {},
   "outputs": [],
   "source": [
    "#4. What happens if you try to access spam['foo'] if spam is {'bar': 100}?\n",
    "#Ans:-\n",
    "If you try to access spam['foo'] where spam is {'bar': 100}, you would get a KeyError because\n",
    "the key 'foo' does not exist in the dictionary spam."
   ]
  },
  {
   "cell_type": "code",
   "execution_count": null,
   "id": "373ad19c",
   "metadata": {},
   "outputs": [],
   "source": [
    "#5. If a dictionary is stored in spam, what is the difference between the expressions 'cat' in spam and 'cat' in spam.keys()?\n",
    "#Ans:-\n",
    "If a dictionary is stored in spam, the expression 'cat' in spam checks\n",
    "if the key 'cat' is present in the dictionary's keys. The expression 'cat' in spam.keys() is functionally equivalent,\n",
    "both checking if the key 'cat' exists in the keys of the dictionary."
   ]
  },
  {
   "cell_type": "code",
   "execution_count": null,
   "id": "310a9663",
   "metadata": {},
   "outputs": [],
   "source": [
    "#6. If a dictionary is stored in spam, what is the difference between the expressions 'cat' in spam and 'cat' in spam.values()?\n",
    "#Ans:-\n",
    "If a dictionary is stored in spam, the expression 'cat' in spam checks if there is a key 'cat' in the dictionary.\n",
    "The expression 'cat' in spam.values() checks if the value 'cat' exists in any of the values in the dictionary."
   ]
  },
  {
   "cell_type": "code",
   "execution_count": null,
   "id": "74431e84",
   "metadata": {},
   "outputs": [],
   "source": [
    "#7. What is a shortcut for the following code?\n",
    "if 'color' not in spam:\n",
    "spam['color'] = 'black'\n",
    "\n",
    "#Ans:-\n",
    "\n",
    "A shortcut for the given code is to use the dict.setdefault() method:\n",
    "\n",
    "spam.setdefault('color', 'black')\n"
   ]
  },
  {
   "cell_type": "code",
   "execution_count": null,
   "id": "d4dae756",
   "metadata": {},
   "outputs": [],
   "source": [
    "#8. How do you \"pretty print\" dictionary values using which module and function?\n",
    "#Ans:-\n",
    "\n",
    "# We can \"pretty print\" dictionary values using the json module's json.dumps() function with the indent parameter. Here's an example:\n",
    "import json\n",
    "\n",
    "my_dict = {'key1': 'value1', 'key2': 'value2'}\n",
    "pretty_printed = json.dumps(my_dict, indent=4)\n",
    "\n",
    "print(pretty_printed)\n",
    "#This will display the dictionary in a well-formatted, \\\n",
    "#indented structure for better readability.\n"
   ]
  }
 ],
 "metadata": {
  "kernelspec": {
   "display_name": "Python 3 (ipykernel)",
   "language": "python",
   "name": "python3"
  },
  "language_info": {
   "codemirror_mode": {
    "name": "ipython",
    "version": 3
   },
   "file_extension": ".py",
   "mimetype": "text/x-python",
   "name": "python",
   "nbconvert_exporter": "python",
   "pygments_lexer": "ipython3",
   "version": "3.10.9"
  }
 },
 "nbformat": 4,
 "nbformat_minor": 5
}
