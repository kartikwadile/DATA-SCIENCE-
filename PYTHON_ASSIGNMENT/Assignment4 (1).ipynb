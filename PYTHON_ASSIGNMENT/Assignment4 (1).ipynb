{
 "cells": [
  {
   "cell_type": "code",
   "execution_count": null,
   "id": "0c9260f7",
   "metadata": {},
   "outputs": [],
   "source": [
    "1. What exactly is []?\n",
    "2. In a list of values stored in a variable called spam, how would you assign the value 'hello' as the third value? (Assume [2, 4, 6, 8, 10] are in spam.)\n",
    "Let's pretend the spam includes the list ['a', 'b', 'c', 'd'] for the next three queries.\n",
    "3. What is the value of spam[int(int('3' * 2) / 11)]?\n",
    "4. What is the value of spam[-1]?\n",
    "5. What is the value of spam[:2]?\n",
    "Let's pretend bacon has the list [3.14, 'cat,' 11, 'cat,' True] for the next three questions.\n",
    "6. What is the value of bacon.index('cat')?\n",
    "7. How does bacon.append(99) change the look of the list value in bacon?\n",
    "8. How does bacon.remove('cat') change the look of the list in bacon?\n",
    "9. What are the list concatenation and list replication operators?\n",
    "10. What is difference between the list methods append() and insert()?\n",
    "11. What are the two methods for removing items from a list?\n",
    "12. Describe how list values and string values are identical.\n",
    "13. What's the difference between tuples and lists?\n",
    "14. How do you type a tuple value that only contains the integer 42?\n",
    "15. How do you get a list value's tuple form? How do you get a tuple value's list form?\n",
    "16. Variables that \"contain\" list values are not necessarily lists themselves. Instead, what do they contain?\n",
    "17. How do you distinguish between copy.copy() and copy.deepcopy()?\n"
   ]
  },
  {
   "cell_type": "code",
   "execution_count": null,
   "id": "a9dff08d",
   "metadata": {},
   "outputs": [],
   "source": [
    "1. What exactly is []?\n",
    "Ans :- empty_list = []"
   ]
  },
  {
   "cell_type": "code",
   "execution_count": 9,
   "id": "287c51e7",
   "metadata": {},
   "outputs": [],
   "source": [
    "#2. In a list of values stored in a variable called spam, how would you assign the value 'hello' as the third value? (Assume [2, 4, 6, 8, 10] are in spam.)\n",
    "#Ans:-\n",
    "spam = [2,4,6,8,10]\n",
    "spam[2] = 'hello'"
   ]
  },
  {
   "cell_type": "code",
   "execution_count": 10,
   "id": "c993a2a1",
   "metadata": {},
   "outputs": [
    {
     "data": {
      "text/plain": [
       "[2, 4, 'hello', 8, 10]"
      ]
     },
     "execution_count": 10,
     "metadata": {},
     "output_type": "execute_result"
    }
   ],
   "source": [
    "spam"
   ]
  },
  {
   "cell_type": "code",
   "execution_count": 8,
   "id": "469287e8",
   "metadata": {},
   "outputs": [
    {
     "data": {
      "text/plain": [
       "'d'"
      ]
     },
     "execution_count": 8,
     "metadata": {},
     "output_type": "execute_result"
    }
   ],
   "source": [
    "#Let's pretend the spam includes the list ['a', 'b', 'c', 'd'] for the next three queries.\n",
    "#3. What is the value of spam[int(int('3' * 2) / 11)]?\n",
    "#Ans:-\n",
    "spam = ['a','b','c','d']\n",
    "spam[int(int('3'*2)/11)]"
   ]
  },
  {
   "cell_type": "code",
   "execution_count": 5,
   "id": "171c776a",
   "metadata": {
    "scrolled": true
   },
   "outputs": [
    {
     "data": {
      "text/plain": [
       "'d'"
      ]
     },
     "execution_count": 5,
     "metadata": {},
     "output_type": "execute_result"
    }
   ],
   "source": [
    "#4. What is the value of spam[-1]?\n",
    "#Ans:- \n",
    "spam[-1]"
   ]
  },
  {
   "cell_type": "code",
   "execution_count": 6,
   "id": "8d75cd85",
   "metadata": {},
   "outputs": [
    {
     "data": {
      "text/plain": [
       "['a', 'b']"
      ]
     },
     "execution_count": 6,
     "metadata": {},
     "output_type": "execute_result"
    }
   ],
   "source": [
    "#5. What is the value of spam[:2]?\n",
    "#Ans:-\n",
    "spam[:2]\n"
   ]
  },
  {
   "cell_type": "code",
   "execution_count": 7,
   "id": "76a88eb7",
   "metadata": {},
   "outputs": [
    {
     "data": {
      "text/plain": [
       "1"
      ]
     },
     "execution_count": 7,
     "metadata": {},
     "output_type": "execute_result"
    }
   ],
   "source": [
    "#Let's pretend bacon has the list [3.14, 'cat,' 11, 'cat,' True] for the next three questions.\n",
    "#6. What is the value of bacon.index('cat')?\n",
    "#Ans:-\n",
    "bacon = [3.14,'cat',11,'cat',True]\n",
    "bacon.index('cat')"
   ]
  },
  {
   "cell_type": "code",
   "execution_count": 11,
   "id": "eda17959",
   "metadata": {},
   "outputs": [],
   "source": [
    "#7. How does bacon.append(99) change the look of the list value in bacon?\n",
    "#Ans:-\n",
    "bacon.append(99)"
   ]
  },
  {
   "cell_type": "code",
   "execution_count": 12,
   "id": "756f408a",
   "metadata": {},
   "outputs": [
    {
     "data": {
      "text/plain": [
       "[3.14, 'cat', 11, 'cat', True, 99]"
      ]
     },
     "execution_count": 12,
     "metadata": {},
     "output_type": "execute_result"
    }
   ],
   "source": [
    "bacon"
   ]
  },
  {
   "cell_type": "code",
   "execution_count": 13,
   "id": "2fa0534b",
   "metadata": {},
   "outputs": [],
   "source": [
    "#8. How does bacon.remove('cat') change the look of the list in bacon?\n",
    "#Ans:-\n",
    "bacon.remove('cat')"
   ]
  },
  {
   "cell_type": "code",
   "execution_count": 14,
   "id": "a93b6af9",
   "metadata": {},
   "outputs": [
    {
     "data": {
      "text/plain": [
       "[3.14, 11, 'cat', True, 99]"
      ]
     },
     "execution_count": 14,
     "metadata": {},
     "output_type": "execute_result"
    }
   ],
   "source": [
    "bacon"
   ]
  },
  {
   "cell_type": "code",
   "execution_count": 15,
   "id": "a59b49e0",
   "metadata": {},
   "outputs": [
    {
     "name": "stdout",
     "output_type": "stream",
     "text": [
      "[1, 2, 3, 4, 5, 6, 7, 2]\n"
     ]
    }
   ],
   "source": [
    "#9. What are the list concatenation and list replication operators?\n",
    "#Ans:- list concatination ('+')\n",
    "list1 = [1,2,3,4]\n",
    "list2 = [5,6,7,2]\n",
    "concat = list1 + list2\n",
    "print(concat)\n"
   ]
  },
  {
   "cell_type": "code",
   "execution_count": 16,
   "id": "f631508c",
   "metadata": {},
   "outputs": [
    {
     "name": "stdout",
     "output_type": "stream",
     "text": [
      "[1, 2, 4, 1, 2, 4, 1, 2, 4]\n"
     ]
    }
   ],
   "source": [
    "#List Replication ('*')\n",
    "list = [1,2,4]\n",
    "replica = list * 3\n",
    "print(replica)\n"
   ]
  },
  {
   "cell_type": "code",
   "execution_count": 23,
   "id": "998b1c2b",
   "metadata": {},
   "outputs": [
    {
     "name": "stdout",
     "output_type": "stream",
     "text": [
      "[1, 2, 'kartik', 23.5, (123, 4, 5, 5), 4]\n"
     ]
    }
   ],
   "source": [
    "#10. What is difference between the list methods append() and insert()?\n",
    "#Ans:-\n",
    "list = [1,2,'kartik',23.5,(123,4,5,5)]\n",
    "\n",
    "list.append(4)\n",
    "print(list)\n",
    "#append ads any value to the end of list\n",
    "# syntax : list.append(value)\n",
    "# It modifies the original list by adding the specified element at the end.\n"
   ]
  },
  {
   "cell_type": "code",
   "execution_count": 24,
   "id": "54347471",
   "metadata": {},
   "outputs": [
    {
     "data": {
      "text/plain": [
       "[1, 2, 'kartik', 'name', 23.5, (123, 4, 5, 5)]"
      ]
     },
     "execution_count": 24,
     "metadata": {},
     "output_type": "execute_result"
    }
   ],
   "source": [
    "list = [1,2,'kartik',23.5,(123,4,5,5)]\n",
    "list.insert(3,'name')\n",
    "list\n",
    "# in insert we can select index and insert any value in list\n",
    "#syntax: list.insert(index,value)\n",
    "#In summary, append() adds an element to the end of the\n",
    "#list, while insert() adds an element at a specific position within the list."
   ]
  },
  {
   "cell_type": "code",
   "execution_count": 32,
   "id": "19691352",
   "metadata": {},
   "outputs": [],
   "source": [
    "# 11. What are the two methods for removing items from a list?\n",
    "#Ans:- there is pop, remove in built methods available in python to remove items\n",
    "#e.g.\n",
    "list = [1,2,4,5,6,'sudh','nayak','sudh',23.4]\n",
    "list.pop()\n",
    "# The pop() method is used to remove and return the element at a specific index in the list.\n",
    "# if index is not give it will remove last element of list\n",
    "#syntax: list.pop(index)\n",
    "\n",
    "\n",
    "list.remove('sudh')\n",
    "# in remove we specify value to be removed\n",
    "#syntax: list.remove(element)\n",
    "#The remove() method is used to remove the first occurrence of a specific element from the list."
   ]
  },
  {
   "cell_type": "code",
   "execution_count": null,
   "id": "e9614e66",
   "metadata": {},
   "outputs": [],
   "source": [
    "#12. Describe how list values and string values are identical.\n",
    "#Ans:-\n",
    "'''\n",
    "Similarities between lists and strings\n",
    "1.Ordered data types: both list and strings are sequential or ordered data types.\n",
    " we can access element's by their index.\n",
    " \n",
    "2.Slicing :- Lists and strings support slicing operations.\n",
    "\n",
    "3. Iteration :- we can iterate over both lists and strings using\n",
    "loops, like for loops, to access each element one by one.\n",
    "\n",
    "4. Len function: we can use the 'len()' function to find the number of elements\n",
    "in both lists and strings.\n",
    "\n",
    "Differences between lists and strings\n",
    "1. Mutability :- one of the most significant distinctions is that lists are mutable, while string are immutable.\n",
    "\n",
    "2. Type of Elements: lists can store elements of various data types(e.g. integers,\n",
    "strings,floats,etc.) while strings are specifically meant to store sequences of characters.\n",
    "\n",
    "3.Methods: in lists we have multiple methods like 'append()','remove()',split() and many more\n",
    "but in strings we have methods such as 'upper()','lower()','split()'.\n",
    "\n",
    "4. Syntax :- lists are represented using square brackets'[]'.\n",
    "'''"
   ]
  },
  {
   "cell_type": "code",
   "execution_count": null,
   "id": "0a9c3aba",
   "metadata": {},
   "outputs": [],
   "source": [
    "#13. What's the difference between tuples and lists?\n",
    "Ans:-\n",
    "'''\n",
    "1. Mutability:- lists are mutable which means we can add, remove,\n",
    "modify elements after creating the list.whether tuples are immutable, which means after creating\n",
    "a tuple we can not change it's elements.\n",
    "\n",
    "2. Syntax:- \n",
    "Lists :- lists are defined using sqauare brackets []\n",
    "Tuples :-tuples are defined using parentheses ()\n",
    "\n",
    "3. use cases :-\n",
    "Lists:- Lists are used when you need a collection of items that may change\n",
    "or evolve over time.\n",
    "Tuples:- Tuples are used when you need a fixed and unchangeable collection of items. \n",
    "\n",
    "4. Methods :- \n",
    "both tuples and lists have some common methods like len(),count(),index()\n",
    "\n",
    "lists have additional methods like append(),insert(),remove()\n",
    "\n",
    "Tuples lack methods that modify the tuple becuase of their immutability.\n",
    "\n",
    "'''"
   ]
  },
  {
   "cell_type": "code",
   "execution_count": null,
   "id": "22c86c5f",
   "metadata": {},
   "outputs": [],
   "source": [
    "14. How do you type a tuple value that only contains the integer 42?\n",
    "Ans:- T = (42,)\n",
    "# To create a tuple value that contains only the integer we can enclose the value \n",
    "#with parentheses() and seperate it with comma."
   ]
  },
  {
   "cell_type": "code",
   "execution_count": 6,
   "id": "bf14421e",
   "metadata": {},
   "outputs": [
    {
     "name": "stdout",
     "output_type": "stream",
     "text": [
      "(2, 3, 4, 5, 6)\n",
      "<class 'tuple'>\n"
     ]
    }
   ],
   "source": [
    "#15. How do you get a list value's tuple form? How do you get a tuple value's list form?\n",
    "#Ans:- By type casting its possible to convert both those datatypes.\n",
    "   # e.g. :-\n",
    "    #list elements to tuple\n",
    "l = [2,3,4,5,6]\n",
    "t = tuple(l)\n",
    "print(t)\n",
    "print(type(t))\n",
    "    "
   ]
  },
  {
   "cell_type": "code",
   "execution_count": 2,
   "id": "6396583d",
   "metadata": {},
   "outputs": [
    {
     "name": "stdout",
     "output_type": "stream",
     "text": [
      "[2, 3, 4, 5, 6]\n",
      "<class 'list'>\n"
     ]
    }
   ],
   "source": [
    "# converting tuple elements to list\n",
    "tuples  = (2,3,4,5,6)\n",
    "l = list(tuples)\n",
    "print(l)\n",
    "print(type(l))"
   ]
  },
  {
   "cell_type": "code",
   "execution_count": 7,
   "id": "920a09a4",
   "metadata": {},
   "outputs": [
    {
     "name": "stdout",
     "output_type": "stream",
     "text": [
      "[100, 3, 4, 5]\n",
      "[100, 3, 4, 5]\n"
     ]
    }
   ],
   "source": [
    "#16. Variables that \"contain\" list values are not necessarily lists themselves. Instead, what do they contain?\n",
    "#Ans:-\n",
    "'''Variables that \"contain\" list values in Python do not directly store the list itself. Instead, \n",
    "they store a reference or a pointer to the list in memory.\n",
    "When you assign a list to a variable, you are creating a reference to the memory location where the list is stored.\n",
    "\n",
    "In other words, variables that are assigned list values contain references to the actual list object in memory.\n",
    "This is an important distinction because it affects how variables work when you modify or copy them.\n",
    "'''\n",
    "\n",
    "#e.g.:-\n",
    "list1 = [2,3,4,5]\n",
    "\n",
    "another_list = list1\n",
    "\n",
    "another_list[0] = 100\n",
    "\n",
    "print(list1)\n",
    "print(another_list)\n",
    "\n",
    "#when we modified the first element of another_list, it also affected list1.\n",
    "#This is because both variables my_list and another_list are pointing to the same list object in memory."
   ]
  },
  {
   "cell_type": "code",
   "execution_count": null,
   "id": "976cc356",
   "metadata": {},
   "outputs": [],
   "source": [
    "17. How do you distinguish between copy.copy() and copy.deepcopy()?\n",
    "\n",
    "Ans:-\n",
    "import copy\n",
    "\n",
    "original_list = [1, [2, 3], [4, 5]]\n",
    "\n",
    "shallow_copied_list = copy.copy(original_list)\n",
    "deep_copied_list = copy.deepcopy(original_list)\n",
    "\n",
    "# Modify the nested list in the shallow copy\n",
    "shallow_copied_list[1][0] = 'modified'\n",
    "# Modify the nested list in the deep copy\n",
    "deep_copied_list[1][0] = 'modified'\n",
    "\n",
    "print(original_list)         # Output: [1, ['modified', 3], [4, 5]]\n",
    "print(shallow_copied_list)   # Output: [1, ['modified', 3], [4, 5]]\n",
    "print(deep_copied_list)      # Output: [1, ['modified', 3], [4, 5]]\n",
    "\n",
    "As you can see, modifying the nested list in the shallow copy affects the original list, while the deep copy keeps the original list unaffected.\n",
    "\n",
    "In summary, use copy.copy() for shallow copies when you want to create a new object with references to the original object's elements, and use copy.deepcopy() for deep copies when you want to create a new object with completely independent copies of all the original object's elements, including nested objects.\n",
    "\n",
    "\n",
    "\n",
    "\n",
    "'''\n",
    "As we can see, modifying the nested list in the shallow copy affects the original list, \n",
    "while the deep copy keeps the original list unaffected.\n",
    "\n",
    "In summary, use copy.copy() for shallow copies when we want to create a new object with references to the original object's elements, \n",
    "and use copy.deepcopy() for deep copies when you want to create a new object with completely independent copies of all the original object's elements, including nested objects.\n",
    "\n",
    "'''"
   ]
  }
 ],
 "metadata": {
  "kernelspec": {
   "display_name": "Python 3 (ipykernel)",
   "language": "python",
   "name": "python3"
  },
  "language_info": {
   "codemirror_mode": {
    "name": "ipython",
    "version": 3
   },
   "file_extension": ".py",
   "mimetype": "text/x-python",
   "name": "python",
   "nbconvert_exporter": "python",
   "pygments_lexer": "ipython3",
   "version": "3.10.9"
  }
 },
 "nbformat": 4,
 "nbformat_minor": 5
}
