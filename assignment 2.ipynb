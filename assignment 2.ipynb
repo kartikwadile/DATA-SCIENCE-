{
 "cells": [
  {
   "cell_type": "code",
   "execution_count": null,
   "id": "29b975d9-53af-4121-a0b4-0b779ee4e770",
   "metadata": {},
   "outputs": [],
   "source": [
    "1.What are the two values of the Boolean data type? How do you write them?\n",
    "\n",
    "Ans :- Typically boolean values are represented as True and False. and specifically in python as a case-sensitive programming language we write them in capitalize Format\n",
    "e.g :-\n",
    "x = True\n",
    "y = False"
   ]
  },
  {
   "cell_type": "code",
   "execution_count": null,
   "id": "3495612f-0bc6-4721-9f86-dd5f22667265",
   "metadata": {},
   "outputs": [],
   "source": [
    "2. What are the three different types of Boolean operators?\n",
    "Ans:- three different operators For boolean data types are:\n",
    "    and , or , not\n",
    "\n"
   ]
  },
  {
   "cell_type": "code",
   "execution_count": null,
   "id": "5de32b2d-5bb6-4e45-b6aa-57ee4e750288",
   "metadata": {},
   "outputs": [],
   "source": [
    "3. Make a List of each Boolean operators truth tables (i.e. every possible combination of Boolean values for the operator and what it evaluate ).\n",
    "Ans:- \n",
    "Logical AND (&):\n",
    "Operand 1\tOperand 2\tResult\n",
    "True\t   True\t         True\n",
    "True\t   False\t     False\n",
    "False\t   True\t         False\n",
    "False\t   False\t     False\n",
    "\n",
    "Logical OR (|):\n",
    "Operand 1\tOperand 2\tResult\n",
    "True\tTrue\tTrue\n",
    "True\tFalse\tTrue\n",
    "False\tTrue\tTrue\n",
    "False\tFalse\tFalse\n",
    "\n",
    "Logical XOR (^):\n",
    "Operand 1  Operand 2  Result\n",
    "\n",
    "True      True      False\n",
    "True      False     True\n",
    "False     True      True\n",
    "False     False     False\n",
    "\n",
    "Logical XOR(^):\n",
    "Operand  result\n",
    "True      False\n",
    "False     True\n",
    "\n"
   ]
  },
  {
   "cell_type": "code",
   "execution_count": null,
   "id": "c25a0272-7abd-4d75-b467-c5141ea5cbff",
   "metadata": {},
   "outputs": [],
   "source": [
    "4. What are the values of the following expressions?\n",
    "(5 > 4) and (3 == 5)                  :    False\n",
    "not (5 > 4)                           :    False\n",
    "(5 > 4) or (3 == 5)                   :    True\n",
    "not ((5 > 4) or (3 == 5))             :    False\n",
    "(True and True) and (True == False)   :    False\n",
    "(not False) or (not True)             :    True"
   ]
  },
  {
   "cell_type": "code",
   "execution_count": null,
   "id": "92bab129-0ed4-4b9f-876c-c6bf75066b5f",
   "metadata": {},
   "outputs": [],
   "source": [
    "5. What are the six comparison operators?\n",
    "Ans:-  comparison operators are:-\n",
    "a == b   # Returns True if a is equal to b\n",
    "a != b   # Returns True if a is not equal to b\n",
    "a < b    # Returns True if a is less than b\n",
    "a > b    # Returns True if a is greater than b\n",
    "a <= b   # Returns True if a is less than or equal to b\n",
    "a >=b    # Returns True if a is greater than or equal to b"
   ]
  },
  {
   "cell_type": "code",
   "execution_count": null,
   "id": "627dd983-5a59-457d-8af3-901b69135100",
   "metadata": {},
   "outputs": [],
   "source": [
    "6. How do you tell the difference between the equal to and assignment operators?Describe a condition and when you would use one.\n",
    "Ans :- \n",
    "1. Equal to (==) operator:\n",
    "The equal to operator (==) is used for comparison to check if two values are equal.\n",
    "x = 5\n",
    "y = 7\n",
    "\n",
    "if x == y:\n",
    "    print(\"x and y are equal\")\n",
    "else:\n",
    "    print(\"x and y are not equal\")\n",
    "    \n",
    "2. Assignment (=) operator:\n",
    "The assignment operator (=) is used to assign a value to a variable.\n",
    "\n",
    "x = 5\n",
    "y = x +3\n",
    "\n",
    "in first example we assigned 5 to variable x\n",
    "in second example we assigned x+3 which is 8 to variable y\n"
   ]
  },
  {
   "cell_type": "code",
   "execution_count": null,
   "id": "d76686e0-6de7-4016-a6c1-319d13f71bbd",
   "metadata": {},
   "outputs": [],
   "source": [
    "7. Identify the three blocks in this code:\n",
    "spam = 0\n",
    "if spam == 10:\n",
    "print('eggs')         \n",
    "if spam > 5:\n",
    "print('bacon')       \n",
    "else:\n",
    "print('ham')\n",
    "print('spam')\n",
    "print('spam')\n",
    "\n",
    "Ans :-\n",
    "Block 1:\n",
    "    spam = 0\n",
    "    if spam == 10:\n",
    "        print('eggs')\n",
    "        #It  checks if spam is equal to 10. However, since the condition is not met \n",
    "        #the  print statement does not execute.\n",
    "Block 2:\n",
    "    if spam > 5:\n",
    "        print('bacon')\n",
    "    else:\n",
    "        print('ham')\n",
    "        # this block check's if spam is greater than 5 or not ,however the condition is not met\n",
    "        #it will produce  else statement 'ham' as output.\n",
    "        \n",
    "Block 3:\n",
    "    print('spam')\n",
    "    print('spam')\n",
    "    \n",
    "    #.. it will always come as an output('spam') because this print is holding string element\n",
    "    #which is not related to spam variable \n",
    "    "
   ]
  },
  {
   "cell_type": "code",
   "execution_count": null,
   "id": "5b585cf6-5f06-4deb-9566-6b454dab2c1a",
   "metadata": {},
   "outputs": [],
   "source": [
    "8. Write code that prints Hello if 1 is stored in spam, prints Howdy if 2 is stored in spam, and prints Greetings! if anything else is stored in spam.\n",
    "Ans:-\n",
    "spam = input(\"Enter value \")\n",
    "if spam == 1:\n",
    "    print(\"Hello\")\n",
    "elif spam == 2:\n",
    "    print(\"Howdy\")\n",
    "else:\n",
    "    print(\"Greetings!\")\n"
   ]
  },
  {
   "cell_type": "code",
   "execution_count": null,
   "id": "c3592034-eb7f-4a34-89df-59db2532839d",
   "metadata": {},
   "outputs": [],
   "source": [
    "9.If your programme is stuck in an endless loop, what keys you’ll press?\n",
    "Ans:-\n",
    "By using the interrupt feature provided by the notebook interface, we can break the endless loop and regain control over the program's execution.\n",
    "In the Jupyter Notebook, we can press the \"Interrupt\" button located on the toolbar. It typically appears as a square icon  or a stop sign icon.\n"
   ]
  },
  {
   "cell_type": "code",
   "execution_count": null,
   "id": "7083a181-72f8-4a55-b27c-f49f8fb5ef44",
   "metadata": {},
   "outputs": [],
   "source": [
    "10. How can you tell the difference between break and continue?\n",
    "Ans:- \n",
    "break And continue both are the reserved keywords In python but workds differently\\\n",
    " \"break\" and \"continue\" are control flow statements used within loops (such as for loops or while loops)\\\n",
    "to alter the program's flow.\n",
    "\n",
    "\n",
    "for i in range(1, 6):\n",
    "    if i == 3:\n",
    "        break\n",
    "    print(i)\n",
    "    # one by one the iteration will go till i ==3 than it breaks the loop\\\n",
    "    # and it will produce result as 1,2 only\n",
    "    \n",
    "    for i in range(1, 6):\n",
    "    if i == 3:\n",
    "        continue\n",
    "    print(i)\n",
    "    # in this example of continue it will iterate till 1 to 5 but skip's 3 \n",
    "    # and continue to produce other elements as it is ,result will be 1,2,4 and 5\n",
    "    "
   ]
  },
  {
   "cell_type": "code",
   "execution_count": null,
   "id": "f9636366-3cac-42d3-a705-704c6a12bd36",
   "metadata": {},
   "outputs": [],
   "source": [
    "11. In a for loop, what is the difference between range(10), range(0, 10), and range(0, 10, 1)?\n",
    "Ans:- There Is no change While they produce result\n",
    "but syntax wise they are different\n",
    "range(10) :- python takes starting point As 0 here stepping point 1\n",
    "range(0,10):- starting point specified And stepping will be 1 automatically\n",
    "range(0,10,1):- start,stop And step points specified.\n",
    "\n",
    "result will come till 0 to 9 because upper bound Is always excluded\n",
    "result = 0,1,2,3,4,5,6,7,8,9"
   ]
  },
  {
   "cell_type": "code",
   "execution_count": null,
   "id": "cf19496d-bf33-4bd5-9545-1ebed516f4ad",
   "metadata": {},
   "outputs": [],
   "source": [
    "12. Write a short program that prints the numbers 1 to 10 using a for loop. Then write an equivalent program that prints the numbers 1 to 10 using a while loop.\n",
    "Ans:-\n",
    "for i in range(1,11):\n",
    "    print(i)\n",
    "    \n",
    "a = 1\n",
    "while a<=10:\n",
    "    print(a)\n",
    "    a += 1"
   ]
  },
  {
   "cell_type": "code",
   "execution_count": null,
   "id": "cb1fd9a5-e954-4841-b273-5a91d90ca036",
   "metadata": {},
   "outputs": [],
   "source": [
    "13. If you had a function named bacon() inside a module named spam, how would you call it after importing spam?\n",
    "Ans:- \n",
    "import spam\n",
    "spam.bacon()"
   ]
  }
 ],
 "metadata": {
  "kernelspec": {
   "display_name": "Python 3 (ipykernel)",
   "language": "python",
   "name": "python3"
  },
  "language_info": {
   "codemirror_mode": {
    "name": "ipython",
    "version": 3
   },
   "file_extension": ".py",
   "mimetype": "text/x-python",
   "name": "python",
   "nbconvert_exporter": "python",
   "pygments_lexer": "ipython3",
   "version": "3.10.6"
  }
 },
 "nbformat": 4,
 "nbformat_minor": 5
}
