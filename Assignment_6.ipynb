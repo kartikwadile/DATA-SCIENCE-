{
 "cells": [
  {
   "cell_type": "code",
   "execution_count": null,
   "id": "b48cc4b6-3d88-4d2b-8ec8-519085f267ed",
   "metadata": {},
   "outputs": [],
   "source": [
    "Q.1. What are keywords in python? Using the keyword library, print all the python keywords.\n",
    "Q.2. What are the rules to create variables in python?\n",
    "Q.3. What are the standards and conventions followed for the nomenclature of variables in\n",
    "python to improve code readability and maintainability?\n",
    "Q.4. What will happen if a keyword is used as a variable name?\n",
    "Q.5. For what purpose def keyword is used?\n",
    "Q.6. What is the operation of this special character ‘\\’?\n",
    "Q.7. Give an example of the following conditions:\n",
    "(i) Homogeneous list\n",
    "(ii) Heterogeneous set\n",
    "(iii) Homogeneous tuple\n",
    "Q.8. Explain the mutable and immutable data types with proper explanation & examples.\n",
    "Q.9. Write a code to create the given structure using only for loop.\n",
    "*\n",
    "***\n",
    "*****\n",
    "*******\n",
    "*********\n",
    "Q.10. Write a code to create the given structure using while loop.\n",
    "|||||||||\n",
    "|||||||\n",
    "|||||\n",
    "|||\n",
    "|"
   ]
  },
  {
   "cell_type": "code",
   "execution_count": null,
   "id": "b2b1d7ca-9d53-48c3-ad54-e2b6ff4cca3e",
   "metadata": {},
   "outputs": [],
   "source": [
    "Q.1. What are keywords in python? Using the keyword library, print all the python keywords.\n",
    "Ans:-\n",
    "Keywords in Python are special words that are reserved for specific purposes\n",
    "and have predefined meanings in the Python programming language. \n",
    "These keywords cannot be used as identifiers (variable names, function names, etc.) in our Python code \n",
    "because they are used to define the language's syntax and structure."
   ]
  },
  {
   "cell_type": "code",
   "execution_count": 1,
   "id": "91089a73-bcb5-477a-8b8b-edd3ec2ef48f",
   "metadata": {},
   "outputs": [
    {
     "name": "stdout",
     "output_type": "stream",
     "text": [
      "['False', 'None', 'True', 'and', 'as', 'assert', 'async', 'await', 'break', 'class', 'continue', 'def', 'del', 'elif', 'else', 'except', 'finally', 'for', 'from', 'global', 'if', 'import', 'in', 'is', 'lambda', 'nonlocal', 'not', 'or', 'pass', 'raise', 'return', 'try', 'while', 'with', 'yield']\n"
     ]
    }
   ],
   "source": [
    "import keyword\n",
    "print(keyword.kwlist)"
   ]
  },
  {
   "cell_type": "code",
   "execution_count": null,
   "id": "8667aafa-460c-4fc4-9ec0-d767cef8c6aa",
   "metadata": {},
   "outputs": [],
   "source": [
    "Q.2. What are the rules to create variables in python?\n",
    "Ans- \n",
    "Certainly, here are the few rules for creating variables in Python :\n",
    "\n",
    "1. Variable names can contain letters, digits, and underscores.\n",
    "2. They must start with a letter or an underscore.\n",
    "3. Variable names are case-sensitive.\n",
    "4. Avoid using Python keywords as variable names.\n",
    "5. Variable names should be meaningful and not contain spaces.\n",
    "6. Use \"snake_case\" for variable names, with words separated by underscores.\n"
   ]
  },
  {
   "cell_type": "code",
   "execution_count": null,
   "id": "7e4ef326-cddb-4648-b249-c26cdd6d83d1",
   "metadata": {},
   "outputs": [],
   "source": [
    "Q.3. What are the standards and conventions followed for the nomenclature of variables in\n",
    "python to improve code readability and maintainability?\n",
    "Ans:-\n",
    "some tips we can use to recognize the variable very well are these:\n",
    "\n",
    "1. Use words to name your variables that explain what they're for.\n",
    "2. Separate words with underscores, like \"my_variable_name.\"\n",
    "3. Avoid using really short names or single letters.\n",
    "4. Don't use special words that Python already knows.\n",
    "5. Be consistent in how you name things in your code.\n",
    "6. Use CapitalLetters for the names of big things (like classes).\n",
    "7. If a variable is supposed to be private, start its name with an underscore.\n",
    "8. For things that never change, use all caps, like \"MAX_VALUE.\"\n",
    "9. Some words with double underscores have special meanings in Python.\n",
    "10. Keep module names simple and don't use strange characters.\n",
    "\n",
    "These rules help make our code easier to understand and work with."
   ]
  },
  {
   "cell_type": "code",
   "execution_count": null,
   "id": "0dc9e82b-ced7-45a6-98d5-0942ef20063e",
   "metadata": {},
   "outputs": [],
   "source": [
    "Q.4. What will happen if a keyword is used as a variable name?\n",
    "Ans:-\n",
    "Using a Python keyword as a variable name will either cause a syntax error or result in unexpected behavior. its best to avoid using keywords for variable names."
   ]
  },
  {
   "cell_type": "code",
   "execution_count": null,
   "id": "99c7318e-0fe8-403e-8c13-9b4e46baabbd",
   "metadata": {},
   "outputs": [],
   "source": [
    "Q.5. For what purpose def keyword is used?\n",
    "Ans:-\n",
    "\n",
    "The def keyword in Python is used to define and create functions."
   ]
  },
  {
   "cell_type": "code",
   "execution_count": null,
   "id": "3e30d6b7-e635-4387-a6d4-98098bd404e0",
   "metadata": {},
   "outputs": [],
   "source": [
    "Q.6. What is the operation of this special character ‘\\’?\n",
    "Ans:-\n",
    "The backslash (\\) is used as an escape character in strings to indicate special characters or to create multiline strings."
   ]
  },
  {
   "cell_type": "code",
   "execution_count": null,
   "id": "ecf0d0ed-a66c-42a8-98f8-4b5296234356",
   "metadata": {},
   "outputs": [],
   "source": [
    "Q.7. Give an example of the following conditions:\n",
    "(i) Homogeneous list\n",
    "(ii) Heterogeneous set\n",
    "(iii) Homogeneous tuple\n",
    "Ans:-\n",
    "homogeneous_list = [1,2,3,4,5]\n",
    "heterogeneous_set = {1,'kartik',3.23,3+2j}\n",
    "homogeneous_tuple = ('Real','unreal','imaginary')"
   ]
  },
  {
   "cell_type": "code",
   "execution_count": null,
   "id": "588e476a-475b-4263-bf44-b749e90d92c3",
   "metadata": {},
   "outputs": [],
   "source": [
    "Q.8. Explain the mutable and immutable data types with proper explanation & examples.\n",
    "Ans:-\n",
    "Certainly, here is there explanation:\n",
    "\n",
    "Mutable Data Types:\n",
    "- Values can be changed after creation.\n",
    "- Examples: Lists, dictionaries.\n",
    "- Changes modify the existing object.\n",
    "- Useful for efficiency but can be error-prone.\n",
    "\n",
    "Immutable Data Types:\n",
    "- Values cannot be changed after creation.\n",
    "- Examples: Strings, numbers, tuples.\n",
    "- Changes create new objects.\n",
    "- Safer and more predictable, often used in functional programming.\n",
    "\n",
    "my_list = [1,2,4,'string',23.32]\n",
    "my_list[2] = "
   ]
  },
  {
   "cell_type": "code",
   "execution_count": 3,
   "id": "0004463c-30f8-4a96-9af6-643f7281765a",
   "metadata": {},
   "outputs": [],
   "source": [
    "#examples of previous question\n",
    "my_list = [1,2,4,'string',23.32]\n",
    "my_list[2] = 32"
   ]
  },
  {
   "cell_type": "code",
   "execution_count": 4,
   "id": "e06c73cd-53fc-497f-b221-1499a1605da0",
   "metadata": {},
   "outputs": [
    {
     "data": {
      "text/plain": [
       "[1, 2, 32, 'string', 23.32]"
      ]
     },
     "execution_count": 4,
     "metadata": {},
     "output_type": "execute_result"
    }
   ],
   "source": [
    "my_list \n",
    "# here my existing list has changed at 2nd index with 32\n",
    "# it means it's a mutable data type (list)"
   ]
  },
  {
   "cell_type": "code",
   "execution_count": null,
   "id": "61988aae-1467-4204-8206-8bb9b1c975b9",
   "metadata": {},
   "outputs": [],
   "source": [
    "my_string = 'wonderful'\n",
    "my_string = 'hi'\n",
    "# Now my_string is 'hi'\n",
    "it's an immutable data type'(string)"
   ]
  },
  {
   "cell_type": "code",
   "execution_count": null,
   "id": "127ad7d7-f0d6-4190-9af9-875940438989",
   "metadata": {},
   "outputs": [],
   "source": [
    "Q.9. Write a code to create the given structure using only for loop.\n",
    "*\n",
    "***\n",
    "*****\n",
    "*******\n",
    "*********\n"
   ]
  },
  {
   "cell_type": "code",
   "execution_count": 8,
   "id": "aa201a0e-07c3-4300-9cff-dc3659726b78",
   "metadata": {},
   "outputs": [
    {
     "name": "stdout",
     "output_type": "stream",
     "text": [
      "*\n",
      "***\n",
      "*****\n",
      "*******\n",
      "*********\n"
     ]
    }
   ],
   "source": [
    "for i in range(10):\n",
    "    if i % 2 != 0:\n",
    "        print(\"*\"*i)\n",
    "    "
   ]
  },
  {
   "cell_type": "code",
   "execution_count": null,
   "id": "bb527ec6-6dbe-47d5-88bb-f42a54096f9e",
   "metadata": {},
   "outputs": [],
   "source": [
    "Q.10. Write a code to create the given structure using while loop.\n",
    "|||||||||\n",
    "|||||||\n",
    "|||||\n",
    "|||\n",
    "|"
   ]
  },
  {
   "cell_type": "code",
   "execution_count": null,
   "id": "31e91c90-c02f-40d9-a0e2-8c2e5ca813e1",
   "metadata": {},
   "outputs": [],
   "source": [
    "a = 10\n",
    "n = 1\n",
    "while a > n :\n",
    "    if a%2 != 0:\n",
    "        print('|'*a"
   ]
  }
 ],
 "metadata": {
  "kernelspec": {
   "display_name": "Python 3 (ipykernel)",
   "language": "python",
   "name": "python3"
  },
  "language_info": {
   "codemirror_mode": {
    "name": "ipython",
    "version": 3
   },
   "file_extension": ".py",
   "mimetype": "text/x-python",
   "name": "python",
   "nbconvert_exporter": "python",
   "pygments_lexer": "ipython3",
   "version": "3.10.6"
  }
 },
 "nbformat": 4,
 "nbformat_minor": 5
}
